{
 "cells": [
  {
   "cell_type": "markdown",
   "metadata": {},
   "source": [
    "## Text summarization"
   ]
  },
  {
   "cell_type": "code",
   "execution_count": 1,
   "metadata": {},
   "outputs": [],
   "source": [
    "# importing libraries\n",
    "import nltk\n",
    "import string\n",
    "from heapq import nlargest"
   ]
  },
  {
   "cell_type": "code",
   "execution_count": 2,
   "metadata": {},
   "outputs": [
    {
     "name": "stdout",
     "output_type": "stream",
     "text": [
      "Dr. APJ Abdul Kalam is not a new name. He served India as the 11th president. He was born on 15 October 1931 in Rameswaram, Tamil Nadu. Because of his works in the field of science and especially missile and rockets, he is also called the Missile Man of India. He was a famous scientist. He worked with organizations like DRDO (Defense Research and Development Organization) and ISRO (Indian Space Research Organization).  He was a real gem of India. He proved that with determination and hard work anything can be achieved. He is one of the many leaders in India who has plenty of admirers. He served the nation for only one term and left us for always on 27 July 2015 due to cardiac arrest.\n"
     ]
    }
   ],
   "source": [
    "# taking text as input to summarize\n",
    "text = input()"
   ]
  },
  {
   "cell_type": "code",
   "execution_count": 3,
   "metadata": {},
   "outputs": [],
   "source": [
    "# defining length of summarised passage\n",
    "if text.count(\". \") > 20:\n",
    "    length = int(round(text.count(\". \")/10, 0))\n",
    "else:\n",
    "    length = 1"
   ]
  },
  {
   "cell_type": "code",
   "execution_count": 4,
   "metadata": {},
   "outputs": [],
   "source": [
    "# removing punctuations from inputted text\n",
    "np =[char for char in text if char not in string.punctuation]\n",
    "np = \"\".join(np)"
   ]
  },
  {
   "cell_type": "code",
   "execution_count": 6,
   "metadata": {},
   "outputs": [],
   "source": [
    "# processing text by removing stop words from output from previous action\n",
    "processed_text = [word for word in np.split() if word.lower() not in nltk.corpus.stopwords.words('english')]"
   ]
  },
  {
   "cell_type": "code",
   "execution_count": 7,
   "metadata": {},
   "outputs": [],
   "source": [
    "# finding the frequency of each word in processed_text\n",
    "word_freq = {} # dictionary with key = word and value = frequency\n",
    "for word in processed_text: \n",
    "    if word not in word_freq:\n",
    "        word_freq[word] = 1 # creating a new word since it is not already present in dictionary\n",
    "    else:\n",
    "        word_freq[word] = word_freq[word] + 1 # incrementing frequency of already present word"
   ]
  },
  {
   "cell_type": "code",
   "execution_count": 8,
   "metadata": {},
   "outputs": [],
   "source": [
    "max_freq = max(word_freq.values()) # finding frequency of word with maximum frequency\n",
    "for word in word_freq.keys():\n",
    "    word_freq[word] = (word_freq[word]/max_freq) # dividing all frequencies with max frequency to determine %age of importance"
   ]
  },
  {
   "cell_type": "code",
   "execution_count": 9,
   "metadata": {},
   "outputs": [],
   "source": [
    "sent_list = nltk.sent_tokenize(text) # sentence tokenization of our text\n",
    "# finding importance of a sentence by summing up frequency of words present in that sentence using word_freq dictionary\n",
    "sent_score = {} # shows importance of sentence\n",
    "for sent in sent_list:\n",
    "    for word in nltk.word_tokenize(sent.lower()):\n",
    "        if word in word_freq.keys():\n",
    "            if sent not in sent_score.keys():\n",
    "                sent_score[sent] = word_freq[word]\n",
    "            else:\n",
    "                sent_score[sent] = sent_score[sent] + word_freq[word] "
   ]
  },
  {
   "cell_type": "code",
   "execution_count": 10,
   "metadata": {},
   "outputs": [
    {
     "name": "stdout",
     "output_type": "stream",
     "text": [
      "He served the nation for only one term and left us for always on 27 July 2015 due to cardiac arrest.\n"
     ]
    }
   ],
   "source": [
    "# performing concatenation to form summarised sentence\n",
    "summary_sents = nlargest(length, sent_score, key=sent_score.get)\n",
    "summary = \" \".join(summary_sents)\n",
    "print(summary)"
   ]
  }
 ],
 "metadata": {
  "kernelspec": {
   "display_name": "Python 3",
   "language": "python",
   "name": "python3"
  },
  "language_info": {
   "codemirror_mode": {
    "name": "ipython",
    "version": 3
   },
   "file_extension": ".py",
   "mimetype": "text/x-python",
   "name": "python",
   "nbconvert_exporter": "python",
   "pygments_lexer": "ipython3",
   "version": "3.7.9"
  }
 },
 "nbformat": 4,
 "nbformat_minor": 4
}
